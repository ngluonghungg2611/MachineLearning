{
  "nbformat": 4,
  "nbformat_minor": 0,
  "metadata": {
    "colab": {
      "name": "SAM.ipynb",
      "provenance": [],
      "collapsed_sections": [],
      "authorship_tag": "ABX9TyN6mwmWwiGcTQ9SIi999n/7",
      "include_colab_link": true
    },
    "kernelspec": {
      "name": "python3",
      "display_name": "Python 3"
    },
    "accelerator": "TPU"
  },
  "cells": [
    {
      "cell_type": "markdown",
      "metadata": {
        "id": "view-in-github",
        "colab_type": "text"
      },
      "source": [
        "<a href=\"https://colab.research.google.com/github/sayakpaul/Sharpness-Aware-Minimization-TensorFlow/blob/main/SAM.ipynb\" target=\"_parent\"><img src=\"https://colab.research.google.com/assets/colab-badge.svg\" alt=\"Open In Colab\"/></a>"
      ]
    },
    {
      "cell_type": "markdown",
      "metadata": {
        "id": "zTJnB1ksZqPL"
      },
      "source": [
        "This notebook how to minimally implement **sharpness-aware minimization** in TensorFlow with the CIFAR10 dataset. Sharpness-aware minimization (SAM) was proposed in the paper - [Sharpness-Aware Minimization for Efficiently Improving Generalization](https://openreview.net/pdf?id=6Tm1mposlrM)<sup>*</sup>. Some notable differences in this implementation: \n",
        "* ResNet20 (attributed to [this repository](https://github.com/GoogleCloudPlatform/keras-idiomatic-programmer/blob/master/zoo/resnet/resnet_cifar10.py)) is used as opposed to PyramidNet and WideResNet. \n",
        "* ShakeDrop regularization has not been used.\n",
        "* Two simple augmentation transformations (random crop and random brightness) have been used as opposed to Cutout, AutoAugment. \n",
        "* Adam has been used as the optimizer with the default arguments as provided by TensorFlow with a `ReduceLROnPlateau`. Table 1 of the original paper suggests to use SGD with different configurations. \n",
        "* Instead of training for full number of epochs I used early stopping with a patience of 10.\n",
        "\n",
        "I referred to the following resources for this study - \n",
        "* [Original Paper](https://openreview.net/pdf?id=6Tm1mposlrM) \n",
        "* [davda54](https://github.com/davda54)'s [PyTorch implementation](https://github.com/davda54/sam)\n",
        "\n",
        "*<small>arXiv version of the paper can be found [here](https://arxiv.org/abs/2010.01412).</small>"
      ]
    },
    {
      "cell_type": "markdown",
      "metadata": {
        "id": "yCS-CVSi1K0i"
      },
      "source": [
        "## Initial Setup"
      ]
    },
    {
      "cell_type": "code",
      "metadata": {
        "id": "6TODJ5eNx_hv"
      },
      "source": [
        "!git clone https://github.com/sayakpaul/Sharpness-Aware-Minimization-TensorFlow"
      ],
      "execution_count": null,
      "outputs": []
    },
    {
      "cell_type": "code",
      "metadata": {
        "id": "ziu8bWZtyHtH"
      },
      "source": [
        "import sys\n",
        "sys.path.append(\"Sharpness-Aware-Minimization-TensorFlow\")"
      ],
      "execution_count": 2,
      "outputs": []
    },
    {
      "cell_type": "code",
      "metadata": {
        "colab": {
          "base_uri": "https://localhost:8080/"
        },
        "id": "Xgvhm6H4YKBI",
        "outputId": "fcae570f-8008-4c77-cf65-eae0f69f6836"
      },
      "source": [
        "import tensorflow as tf\n",
        "tf.random.set_seed(42)\n",
        "print(tf.__version__)"
      ],
      "execution_count": 3,
      "outputs": [
        {
          "output_type": "stream",
          "text": [
            "2.4.1\n"
          ],
          "name": "stdout"
        }
      ]
    },
    {
      "cell_type": "code",
      "metadata": {
        "colab": {
          "base_uri": "https://localhost:8080/"
        },
        "id": "yV7Gq8KvZkWX",
        "outputId": "279022fa-0bf4-4170-9e00-e552fe0564f6"
      },
      "source": [
        "try: # detect TPUs\n",
        "    tpu = None\n",
        "    tpu = tf.distribute.cluster_resolver.TPUClusterResolver() # TPU detection\n",
        "    tf.config.experimental_connect_to_cluster(tpu)\n",
        "    tf.tpu.experimental.initialize_tpu_system(tpu)\n",
        "    strategy = tf.distribute.experimental.TPUStrategy(tpu)\n",
        "except ValueError: # detect GPUs\n",
        "    strategy = tf.distribute.MirroredStrategy() # for GPU or multi-GPU machines\n",
        "  \n",
        "print(\"Number of accelerators: \", strategy.num_replicas_in_sync)"
      ],
      "execution_count": 4,
      "outputs": [
        {
          "output_type": "stream",
          "text": [
            "INFO:tensorflow:Initializing the TPU system: grpc://10.35.116.218:8470\n"
          ],
          "name": "stdout"
        },
        {
          "output_type": "stream",
          "text": [
            "INFO:tensorflow:Initializing the TPU system: grpc://10.35.116.218:8470\n"
          ],
          "name": "stderr"
        },
        {
          "output_type": "stream",
          "text": [
            "INFO:tensorflow:Clearing out eager caches\n"
          ],
          "name": "stdout"
        },
        {
          "output_type": "stream",
          "text": [
            "INFO:tensorflow:Clearing out eager caches\n"
          ],
          "name": "stderr"
        },
        {
          "output_type": "stream",
          "text": [
            "INFO:tensorflow:Finished initializing TPU system.\n"
          ],
          "name": "stdout"
        },
        {
          "output_type": "stream",
          "text": [
            "INFO:tensorflow:Finished initializing TPU system.\n",
            "WARNING:absl:`tf.distribute.experimental.TPUStrategy` is deprecated, please use  the non experimental symbol `tf.distribute.TPUStrategy` instead.\n"
          ],
          "name": "stderr"
        },
        {
          "output_type": "stream",
          "text": [
            "INFO:tensorflow:Found TPU system:\n"
          ],
          "name": "stdout"
        },
        {
          "output_type": "stream",
          "text": [
            "INFO:tensorflow:Found TPU system:\n"
          ],
          "name": "stderr"
        },
        {
          "output_type": "stream",
          "text": [
            "INFO:tensorflow:*** Num TPU Cores: 8\n"
          ],
          "name": "stdout"
        },
        {
          "output_type": "stream",
          "text": [
            "INFO:tensorflow:*** Num TPU Cores: 8\n"
          ],
          "name": "stderr"
        },
        {
          "output_type": "stream",
          "text": [
            "INFO:tensorflow:*** Num TPU Workers: 1\n"
          ],
          "name": "stdout"
        },
        {
          "output_type": "stream",
          "text": [
            "INFO:tensorflow:*** Num TPU Workers: 1\n"
          ],
          "name": "stderr"
        },
        {
          "output_type": "stream",
          "text": [
            "INFO:tensorflow:*** Num TPU Cores Per Worker: 8\n"
          ],
          "name": "stdout"
        },
        {
          "output_type": "stream",
          "text": [
            "INFO:tensorflow:*** Num TPU Cores Per Worker: 8\n"
          ],
          "name": "stderr"
        },
        {
          "output_type": "stream",
          "text": [
            "INFO:tensorflow:*** Available Device: _DeviceAttributes(/job:localhost/replica:0/task:0/device:CPU:0, CPU, 0, 0)\n"
          ],
          "name": "stdout"
        },
        {
          "output_type": "stream",
          "text": [
            "INFO:tensorflow:*** Available Device: _DeviceAttributes(/job:localhost/replica:0/task:0/device:CPU:0, CPU, 0, 0)\n"
          ],
          "name": "stderr"
        },
        {
          "output_type": "stream",
          "text": [
            "INFO:tensorflow:*** Available Device: _DeviceAttributes(/job:worker/replica:0/task:0/device:CPU:0, CPU, 0, 0)\n"
          ],
          "name": "stdout"
        },
        {
          "output_type": "stream",
          "text": [
            "INFO:tensorflow:*** Available Device: _DeviceAttributes(/job:worker/replica:0/task:0/device:CPU:0, CPU, 0, 0)\n"
          ],
          "name": "stderr"
        },
        {
          "output_type": "stream",
          "text": [
            "INFO:tensorflow:*** Available Device: _DeviceAttributes(/job:worker/replica:0/task:0/device:TPU:0, TPU, 0, 0)\n"
          ],
          "name": "stdout"
        },
        {
          "output_type": "stream",
          "text": [
            "INFO:tensorflow:*** Available Device: _DeviceAttributes(/job:worker/replica:0/task:0/device:TPU:0, TPU, 0, 0)\n"
          ],
          "name": "stderr"
        },
        {
          "output_type": "stream",
          "text": [
            "INFO:tensorflow:*** Available Device: _DeviceAttributes(/job:worker/replica:0/task:0/device:TPU:1, TPU, 0, 0)\n"
          ],
          "name": "stdout"
        },
        {
          "output_type": "stream",
          "text": [
            "INFO:tensorflow:*** Available Device: _DeviceAttributes(/job:worker/replica:0/task:0/device:TPU:1, TPU, 0, 0)\n"
          ],
          "name": "stderr"
        },
        {
          "output_type": "stream",
          "text": [
            "INFO:tensorflow:*** Available Device: _DeviceAttributes(/job:worker/replica:0/task:0/device:TPU:2, TPU, 0, 0)\n"
          ],
          "name": "stdout"
        },
        {
          "output_type": "stream",
          "text": [
            "INFO:tensorflow:*** Available Device: _DeviceAttributes(/job:worker/replica:0/task:0/device:TPU:2, TPU, 0, 0)\n"
          ],
          "name": "stderr"
        },
        {
          "output_type": "stream",
          "text": [
            "INFO:tensorflow:*** Available Device: _DeviceAttributes(/job:worker/replica:0/task:0/device:TPU:3, TPU, 0, 0)\n"
          ],
          "name": "stdout"
        },
        {
          "output_type": "stream",
          "text": [
            "INFO:tensorflow:*** Available Device: _DeviceAttributes(/job:worker/replica:0/task:0/device:TPU:3, TPU, 0, 0)\n"
          ],
          "name": "stderr"
        },
        {
          "output_type": "stream",
          "text": [
            "INFO:tensorflow:*** Available Device: _DeviceAttributes(/job:worker/replica:0/task:0/device:TPU:4, TPU, 0, 0)\n"
          ],
          "name": "stdout"
        },
        {
          "output_type": "stream",
          "text": [
            "INFO:tensorflow:*** Available Device: _DeviceAttributes(/job:worker/replica:0/task:0/device:TPU:4, TPU, 0, 0)\n"
          ],
          "name": "stderr"
        },
        {
          "output_type": "stream",
          "text": [
            "INFO:tensorflow:*** Available Device: _DeviceAttributes(/job:worker/replica:0/task:0/device:TPU:5, TPU, 0, 0)\n"
          ],
          "name": "stdout"
        },
        {
          "output_type": "stream",
          "text": [
            "INFO:tensorflow:*** Available Device: _DeviceAttributes(/job:worker/replica:0/task:0/device:TPU:5, TPU, 0, 0)\n"
          ],
          "name": "stderr"
        },
        {
          "output_type": "stream",
          "text": [
            "INFO:tensorflow:*** Available Device: _DeviceAttributes(/job:worker/replica:0/task:0/device:TPU:6, TPU, 0, 0)\n"
          ],
          "name": "stdout"
        },
        {
          "output_type": "stream",
          "text": [
            "INFO:tensorflow:*** Available Device: _DeviceAttributes(/job:worker/replica:0/task:0/device:TPU:6, TPU, 0, 0)\n"
          ],
          "name": "stderr"
        },
        {
          "output_type": "stream",
          "text": [
            "INFO:tensorflow:*** Available Device: _DeviceAttributes(/job:worker/replica:0/task:0/device:TPU:7, TPU, 0, 0)\n"
          ],
          "name": "stdout"
        },
        {
          "output_type": "stream",
          "text": [
            "INFO:tensorflow:*** Available Device: _DeviceAttributes(/job:worker/replica:0/task:0/device:TPU:7, TPU, 0, 0)\n"
          ],
          "name": "stderr"
        },
        {
          "output_type": "stream",
          "text": [
            "INFO:tensorflow:*** Available Device: _DeviceAttributes(/job:worker/replica:0/task:0/device:TPU_SYSTEM:0, TPU_SYSTEM, 0, 0)\n"
          ],
          "name": "stdout"
        },
        {
          "output_type": "stream",
          "text": [
            "INFO:tensorflow:*** Available Device: _DeviceAttributes(/job:worker/replica:0/task:0/device:TPU_SYSTEM:0, TPU_SYSTEM, 0, 0)\n"
          ],
          "name": "stderr"
        },
        {
          "output_type": "stream",
          "text": [
            "INFO:tensorflow:*** Available Device: _DeviceAttributes(/job:worker/replica:0/task:0/device:XLA_CPU:0, XLA_CPU, 0, 0)\n"
          ],
          "name": "stdout"
        },
        {
          "output_type": "stream",
          "text": [
            "INFO:tensorflow:*** Available Device: _DeviceAttributes(/job:worker/replica:0/task:0/device:XLA_CPU:0, XLA_CPU, 0, 0)\n"
          ],
          "name": "stderr"
        },
        {
          "output_type": "stream",
          "text": [
            "Number of accelerators:  8\n"
          ],
          "name": "stdout"
        }
      ]
    },
    {
      "cell_type": "code",
      "metadata": {
        "id": "g7Lsa680aIYR"
      },
      "source": [
        "import matplotlib.pyplot as plt\n",
        "import resnet_cifar10\n",
        "import utils\n",
        "import time"
      ],
      "execution_count": 5,
      "outputs": []
    },
    {
      "cell_type": "markdown",
      "metadata": {
        "id": "WM0Ne_rs1OMZ"
      },
      "source": [
        "## Load Dataset and Prepare Data Loaders"
      ]
    },
    {
      "cell_type": "code",
      "metadata": {
        "colab": {
          "base_uri": "https://localhost:8080/"
        },
        "id": "vKLGpSfmbTEz",
        "outputId": "3fac8545-60f1-4d00-bee4-aeef11ab74a7"
      },
      "source": [
        "(x_train, y_train), (x_test, y_test) = tf.keras.datasets.cifar10.load_data()\n",
        "print(f\"Training samples: {len(x_train)}\")\n",
        "print(f\"Testing samples: {len(x_test)}\")"
      ],
      "execution_count": 6,
      "outputs": [
        {
          "output_type": "stream",
          "text": [
            "Downloading data from https://www.cs.toronto.edu/~kriz/cifar-10-python.tar.gz\n",
            "170500096/170498071 [==============================] - 2s 0us/step\n",
            "Training samples: 50000\n",
            "Testing samples: 10000\n"
          ],
          "name": "stdout"
        }
      ]
    },
    {
      "cell_type": "code",
      "metadata": {
        "colab": {
          "base_uri": "https://localhost:8080/"
        },
        "id": "8SQ2_RLQa8w2",
        "outputId": "96b4cbaf-6bc9-4737-bf6b-0164eb4b39a9"
      },
      "source": [
        "BATCH_SIZE = 128 * strategy.num_replicas_in_sync\n",
        "print(f\"Batch size: {BATCH_SIZE}\")\n",
        "AUTO = tf.data.AUTOTUNE\n",
        "\n",
        "def scale(image, label):\n",
        "    image = tf.image.convert_image_dtype(image, tf.float32)\n",
        "    label = tf.cast(label, tf.int32)\n",
        "    return image, label\n",
        "\n",
        "def augment(image,label):\n",
        "    image = tf.image.resize_with_crop_or_pad(image, 40, 40) # Add 8 pixels of padding\n",
        "    image = tf.image.random_crop(image, size=[32, 32, 3]) # Random crop back to 32x32\n",
        "    image = tf.image.random_brightness(image, max_delta=0.5) # Random brightness\n",
        "    image = tf.clip_by_value(image, 0., 1.)\n",
        "\n",
        "    return image, label\n",
        "\n",
        "train_ds = tf.data.Dataset.from_tensor_slices((x_train, y_train))\n",
        "train_ds = (\n",
        "    train_ds\n",
        "    .shuffle(1024)\n",
        "    .map(scale, num_parallel_calls=AUTO)\n",
        "    .map(augment, num_parallel_calls=AUTO)\n",
        "    .batch(BATCH_SIZE)\n",
        "    .prefetch(AUTO)\n",
        ")\n",
        "\n",
        "test_ds = tf.data.Dataset.from_tensor_slices((x_test, y_test))\n",
        "test_ds = (\n",
        "    test_ds\n",
        "    .map(scale, num_parallel_calls=AUTO)\n",
        "    .batch(BATCH_SIZE)\n",
        "    .prefetch(AUTO)\n",
        ")"
      ],
      "execution_count": 7,
      "outputs": [
        {
          "output_type": "stream",
          "text": [
            "Batch size: 1024\n"
          ],
          "name": "stdout"
        }
      ]
    },
    {
      "cell_type": "markdown",
      "metadata": {
        "id": "MYkEOuIV1a3i"
      },
      "source": [
        "## Encapsulate SAM Logic "
      ]
    },
    {
      "cell_type": "markdown",
      "metadata": {
        "id": "Sd3MMHqG2zBL"
      },
      "source": [
        "SAM is implemented as follows - \n",
        "\n",
        "<center>\n",
        "<img src=\"https://i.ibb.co/qRSfNX7/image.png\"></img><br>\n",
        "<small>Source: Original Paper</small>\n",
        "</center>"
      ]
    },
    {
      "cell_type": "code",
      "metadata": {
        "id": "ENUFObDrbqlC"
      },
      "source": [
        "class SAMModel(tf.keras.Model):\n",
        "    def __init__(self, resnet_model, rho=0.05):\n",
        "        \"\"\"\n",
        "        p, q = 2 for optimal results as suggested in the paper\n",
        "        (Section 2)\n",
        "        \"\"\"\n",
        "        super(SAMModel, self).__init__()\n",
        "        self.resnet_model = resnet_model\n",
        "        self.rho = rho\n",
        "\n",
        "    def train_step(self, data):\n",
        "        (images, labels) = data\n",
        "        e_ws = []\n",
        "        with tf.GradientTape() as tape:\n",
        "            predictions = self.resnet_model(images)\n",
        "            loss = self.compiled_loss(labels, predictions)\n",
        "        trainable_params = self.resnet_model.trainable_variables\n",
        "        gradients = tape.gradient(loss, trainable_params)\n",
        "        grad_norm = self._grad_norm(gradients)\n",
        "        scale = self.rho / (grad_norm + 1e-12)\n",
        "        \n",
        "        with tf.GradientTape() as tape:\n",
        "            predictions = self.resnet_model(images)\n",
        "            loss = self.compiled_loss(labels, predictions)    \n",
        "        for (grad, param) in zip(gradients, trainable_params):\n",
        "            e_w = grad * scale\n",
        "            param.assign_add(e_w)\n",
        "            e_ws.append(e_w)\n",
        "        sam_gradients = tape.gradient(loss, trainable_params)\n",
        "        for (param, e_w) in zip(trainable_params, e_ws):\n",
        "            param.assign_sub(e_w)\n",
        "        \n",
        "        self.optimizer.apply_gradients(\n",
        "            zip(sam_gradients, trainable_params))\n",
        "\n",
        "        self.compiled_metrics.update_state(labels, predictions)\n",
        "        return {m.name: m.result() for m in self.metrics}\n",
        "\n",
        "    def test_step(self, data):\n",
        "        (images, labels) = data\n",
        "        predictions = self.resnet_model(images, training=False)\n",
        "        loss = self.compiled_loss(labels, predictions)\n",
        "        self.compiled_metrics.update_state(labels, predictions)\n",
        "        return {m.name: m.result() for m in self.metrics}\n",
        "\n",
        "    def _grad_norm(self, gradients):\n",
        "        norm = tf.norm(\n",
        "            tf.stack([\n",
        "                tf.norm(grad) for grad in gradients if grad is not None\n",
        "            ])\n",
        "        )\n",
        "        return norm"
      ],
      "execution_count": 8,
      "outputs": []
    },
    {
      "cell_type": "markdown",
      "metadata": {
        "id": "GdhtsEdU1523"
      },
      "source": [
        "## Define Callbacks"
      ]
    },
    {
      "cell_type": "code",
      "metadata": {
        "id": "nExIz3Wxe7Q-"
      },
      "source": [
        "train_callbacks = [\n",
        "    tf.keras.callbacks.EarlyStopping(\n",
        "        monitor=\"val_loss\", patience=10,\n",
        "        restore_best_weights=True\n",
        "    ),\n",
        "    tf.keras.callbacks.ReduceLROnPlateau(\n",
        "        monitor=\"val_loss\", factor=0.5,\n",
        "        patience=3, verbose=1\n",
        "    )\n",
        "]"
      ],
      "execution_count": 9,
      "outputs": []
    },
    {
      "cell_type": "markdown",
      "metadata": {
        "id": "FIhxFkRB18do"
      },
      "source": [
        "## Initialize Model with SAM and Train It"
      ]
    },
    {
      "cell_type": "code",
      "metadata": {
        "colab": {
          "base_uri": "https://localhost:8080/"
        },
        "id": "MZQxt8g-cArk",
        "outputId": "25dac131-1108-4899-df8d-fb4910912e16"
      },
      "source": [
        "with strategy.scope():\n",
        "    model = SAMModel(utils.get_training_model())\n",
        "model.compile(\n",
        "    optimizer=\"adam\", loss=\"sparse_categorical_crossentropy\", metrics=[\"accuracy\"]\n",
        ")\n",
        "print(f\"Total learnable parameters: {model.resnet_model.count_params()/1e6} M\")"
      ],
      "execution_count": 10,
      "outputs": [
        {
          "output_type": "stream",
          "text": [
            "Total learnable parameters: 0.575114 M\n"
          ],
          "name": "stdout"
        }
      ]
    },
    {
      "cell_type": "code",
      "metadata": {
        "colab": {
          "base_uri": "https://localhost:8080/"
        },
        "id": "ymRvGAazexFs",
        "outputId": "df02ce0d-8261-40eb-b646-8b351c731b44"
      },
      "source": [
        "start = time.time()\n",
        "history = model.fit(train_ds,\n",
        "                   validation_data=test_ds,\n",
        "                   callbacks=train_callbacks,\n",
        "                   epochs=100)\n",
        "print(f\"Total training time: {(time.time() - start)/60.} minutes\")"
      ],
      "execution_count": 11,
      "outputs": [
        {
          "output_type": "stream",
          "text": [
            "Epoch 1/100\n",
            "49/49 [==============================] - 29s 245ms/step - loss: 3.0029 - accuracy: 0.1295 - val_loss: 1.9802 - val_accuracy: 0.2626\n",
            "Epoch 2/100\n",
            "49/49 [==============================] - 3s 55ms/step - loss: 1.9859 - accuracy: 0.2549 - val_loss: 1.8028 - val_accuracy: 0.3328\n",
            "Epoch 3/100\n",
            "49/49 [==============================] - 3s 55ms/step - loss: 1.8933 - accuracy: 0.3024 - val_loss: 1.7960 - val_accuracy: 0.3502\n",
            "Epoch 4/100\n",
            "49/49 [==============================] - 3s 54ms/step - loss: 1.7945 - accuracy: 0.3372 - val_loss: 1.6082 - val_accuracy: 0.4056\n",
            "Epoch 5/100\n",
            "49/49 [==============================] - 3s 54ms/step - loss: 1.6805 - accuracy: 0.3752 - val_loss: 1.5190 - val_accuracy: 0.4446\n",
            "Epoch 6/100\n",
            "49/49 [==============================] - 3s 54ms/step - loss: 1.6284 - accuracy: 0.4030 - val_loss: 1.4679 - val_accuracy: 0.4694\n",
            "Epoch 7/100\n",
            "49/49 [==============================] - 3s 54ms/step - loss: 1.5613 - accuracy: 0.4302 - val_loss: 1.4363 - val_accuracy: 0.4748\n",
            "Epoch 8/100\n",
            "49/49 [==============================] - 3s 63ms/step - loss: 1.4998 - accuracy: 0.4556 - val_loss: 1.4208 - val_accuracy: 0.4830\n",
            "Epoch 9/100\n",
            "49/49 [==============================] - 3s 55ms/step - loss: 1.4796 - accuracy: 0.4605 - val_loss: 1.3916 - val_accuracy: 0.5052\n",
            "Epoch 10/100\n",
            "49/49 [==============================] - 3s 55ms/step - loss: 1.4201 - accuracy: 0.4884 - val_loss: 1.3079 - val_accuracy: 0.5332\n",
            "Epoch 11/100\n",
            "49/49 [==============================] - 3s 54ms/step - loss: 1.3840 - accuracy: 0.4986 - val_loss: 1.2638 - val_accuracy: 0.5549\n",
            "Epoch 12/100\n",
            "49/49 [==============================] - 3s 55ms/step - loss: 1.3521 - accuracy: 0.5124 - val_loss: 1.2202 - val_accuracy: 0.5702\n",
            "Epoch 13/100\n",
            "49/49 [==============================] - 3s 56ms/step - loss: 1.2909 - accuracy: 0.5339 - val_loss: 1.1494 - val_accuracy: 0.5898\n",
            "Epoch 14/100\n",
            "49/49 [==============================] - 3s 56ms/step - loss: 1.2536 - accuracy: 0.5517 - val_loss: 1.1606 - val_accuracy: 0.5963\n",
            "Epoch 15/100\n",
            "49/49 [==============================] - 3s 65ms/step - loss: 1.2184 - accuracy: 0.5662 - val_loss: 1.1121 - val_accuracy: 0.6092\n",
            "Epoch 16/100\n",
            "49/49 [==============================] - 3s 56ms/step - loss: 1.1788 - accuracy: 0.5801 - val_loss: 1.1152 - val_accuracy: 0.6094\n",
            "Epoch 17/100\n",
            "49/49 [==============================] - 3s 55ms/step - loss: 1.1369 - accuracy: 0.5970 - val_loss: 1.0562 - val_accuracy: 0.6262\n",
            "Epoch 18/100\n",
            "49/49 [==============================] - 3s 55ms/step - loss: 1.0963 - accuracy: 0.6111 - val_loss: 1.0358 - val_accuracy: 0.6390\n",
            "Epoch 19/100\n",
            "49/49 [==============================] - 3s 54ms/step - loss: 1.0812 - accuracy: 0.6179 - val_loss: 1.0425 - val_accuracy: 0.6408\n",
            "Epoch 20/100\n",
            "49/49 [==============================] - 3s 54ms/step - loss: 1.0425 - accuracy: 0.6327 - val_loss: 1.0155 - val_accuracy: 0.6495\n",
            "Epoch 21/100\n",
            "49/49 [==============================] - 3s 55ms/step - loss: 1.0319 - accuracy: 0.6342 - val_loss: 1.0385 - val_accuracy: 0.6374\n",
            "Epoch 22/100\n",
            "49/49 [==============================] - 3s 55ms/step - loss: 1.0201 - accuracy: 0.6397 - val_loss: 0.9490 - val_accuracy: 0.6776\n",
            "Epoch 23/100\n",
            "49/49 [==============================] - 3s 54ms/step - loss: 0.9986 - accuracy: 0.6472 - val_loss: 0.9921 - val_accuracy: 0.6554\n",
            "Epoch 24/100\n",
            "49/49 [==============================] - 3s 55ms/step - loss: 0.9611 - accuracy: 0.6668 - val_loss: 0.9414 - val_accuracy: 0.6760\n",
            "Epoch 25/100\n",
            "49/49 [==============================] - 3s 55ms/step - loss: 0.9478 - accuracy: 0.6647 - val_loss: 0.8943 - val_accuracy: 0.6879\n",
            "Epoch 26/100\n",
            "49/49 [==============================] - 3s 56ms/step - loss: 0.9170 - accuracy: 0.6770 - val_loss: 0.9248 - val_accuracy: 0.6896\n",
            "Epoch 27/100\n",
            "49/49 [==============================] - 3s 54ms/step - loss: 0.9102 - accuracy: 0.6807 - val_loss: 0.9110 - val_accuracy: 0.6905\n",
            "Epoch 28/100\n",
            "49/49 [==============================] - 3s 55ms/step - loss: 0.8935 - accuracy: 0.6882 - val_loss: 0.8690 - val_accuracy: 0.7067\n",
            "Epoch 29/100\n",
            "49/49 [==============================] - 3s 63ms/step - loss: 0.8768 - accuracy: 0.6937 - val_loss: 0.8673 - val_accuracy: 0.7077\n",
            "Epoch 30/100\n",
            "49/49 [==============================] - 3s 56ms/step - loss: 0.8561 - accuracy: 0.6985 - val_loss: 0.8520 - val_accuracy: 0.7118\n",
            "Epoch 31/100\n",
            "49/49 [==============================] - 3s 55ms/step - loss: 0.8380 - accuracy: 0.7048 - val_loss: 0.8590 - val_accuracy: 0.7103\n",
            "Epoch 32/100\n",
            "49/49 [==============================] - 3s 55ms/step - loss: 0.8266 - accuracy: 0.7132 - val_loss: 0.8274 - val_accuracy: 0.7195\n",
            "Epoch 33/100\n",
            "49/49 [==============================] - 3s 54ms/step - loss: 0.8007 - accuracy: 0.7206 - val_loss: 0.7626 - val_accuracy: 0.7449\n",
            "Epoch 34/100\n",
            "49/49 [==============================] - 3s 54ms/step - loss: 0.7910 - accuracy: 0.7263 - val_loss: 0.8453 - val_accuracy: 0.7136\n",
            "Epoch 35/100\n",
            "49/49 [==============================] - 3s 55ms/step - loss: 0.8032 - accuracy: 0.7196 - val_loss: 0.7493 - val_accuracy: 0.7471\n",
            "Epoch 36/100\n",
            "49/49 [==============================] - 3s 65ms/step - loss: 0.7730 - accuracy: 0.7301 - val_loss: 0.7698 - val_accuracy: 0.7423\n",
            "Epoch 37/100\n",
            "49/49 [==============================] - 3s 55ms/step - loss: 0.7630 - accuracy: 0.7347 - val_loss: 0.8027 - val_accuracy: 0.7340\n",
            "Epoch 38/100\n",
            "49/49 [==============================] - 3s 55ms/step - loss: 0.7463 - accuracy: 0.7376 - val_loss: 0.7641 - val_accuracy: 0.7458\n",
            "\n",
            "Epoch 00038: ReduceLROnPlateau reducing learning rate to 0.0005000000237487257.\n",
            "Epoch 39/100\n",
            "49/49 [==============================] - 3s 55ms/step - loss: 0.7157 - accuracy: 0.7509 - val_loss: 0.7176 - val_accuracy: 0.7637\n",
            "Epoch 40/100\n",
            "49/49 [==============================] - 3s 54ms/step - loss: 0.6833 - accuracy: 0.7632 - val_loss: 0.6963 - val_accuracy: 0.7705\n",
            "Epoch 41/100\n",
            "49/49 [==============================] - 3s 54ms/step - loss: 0.6574 - accuracy: 0.7719 - val_loss: 0.7021 - val_accuracy: 0.7703\n",
            "Epoch 42/100\n",
            "49/49 [==============================] - 3s 54ms/step - loss: 0.6612 - accuracy: 0.7699 - val_loss: 0.6934 - val_accuracy: 0.7748\n",
            "Epoch 43/100\n",
            "49/49 [==============================] - 3s 64ms/step - loss: 0.6567 - accuracy: 0.7683 - val_loss: 0.7158 - val_accuracy: 0.7653\n",
            "Epoch 44/100\n",
            "49/49 [==============================] - 3s 55ms/step - loss: 0.6638 - accuracy: 0.7690 - val_loss: 0.6915 - val_accuracy: 0.7735\n",
            "Epoch 45/100\n",
            "49/49 [==============================] - 3s 56ms/step - loss: 0.6434 - accuracy: 0.7733 - val_loss: 0.7486 - val_accuracy: 0.7528\n",
            "Epoch 46/100\n",
            "49/49 [==============================] - 3s 57ms/step - loss: 0.6473 - accuracy: 0.7728 - val_loss: 0.6711 - val_accuracy: 0.7801\n",
            "Epoch 47/100\n",
            "49/49 [==============================] - 3s 55ms/step - loss: 0.6344 - accuracy: 0.7785 - val_loss: 0.6940 - val_accuracy: 0.7748\n",
            "Epoch 48/100\n",
            "49/49 [==============================] - 3s 63ms/step - loss: 0.6337 - accuracy: 0.7772 - val_loss: 0.6708 - val_accuracy: 0.7760\n",
            "Epoch 49/100\n",
            "49/49 [==============================] - 4s 74ms/step - loss: 0.6204 - accuracy: 0.7841 - val_loss: 0.6775 - val_accuracy: 0.7760\n",
            "Epoch 50/100\n",
            "49/49 [==============================] - 3s 68ms/step - loss: 0.6182 - accuracy: 0.7838 - val_loss: 0.6734 - val_accuracy: 0.7812\n",
            "Epoch 51/100\n",
            "49/49 [==============================] - 3s 66ms/step - loss: 0.6110 - accuracy: 0.7864 - val_loss: 0.7053 - val_accuracy: 0.7706\n",
            "\n",
            "Epoch 00051: ReduceLROnPlateau reducing learning rate to 0.0002500000118743628.\n",
            "Epoch 52/100\n",
            "49/49 [==============================] - 3s 55ms/step - loss: 0.5953 - accuracy: 0.7911 - val_loss: 0.6546 - val_accuracy: 0.7860\n",
            "Epoch 53/100\n",
            "49/49 [==============================] - 3s 55ms/step - loss: 0.5801 - accuracy: 0.7948 - val_loss: 0.6457 - val_accuracy: 0.7893\n",
            "Epoch 54/100\n",
            "49/49 [==============================] - 3s 56ms/step - loss: 0.5757 - accuracy: 0.8012 - val_loss: 0.6466 - val_accuracy: 0.7863\n",
            "Epoch 55/100\n",
            "49/49 [==============================] - 3s 55ms/step - loss: 0.5737 - accuracy: 0.8013 - val_loss: 0.6450 - val_accuracy: 0.7881\n",
            "Epoch 56/100\n",
            "49/49 [==============================] - 3s 54ms/step - loss: 0.5615 - accuracy: 0.8061 - val_loss: 0.6414 - val_accuracy: 0.7896\n",
            "Epoch 57/100\n",
            "49/49 [==============================] - 3s 55ms/step - loss: 0.5673 - accuracy: 0.8033 - val_loss: 0.6521 - val_accuracy: 0.7901\n",
            "Epoch 58/100\n",
            "49/49 [==============================] - 3s 54ms/step - loss: 0.5652 - accuracy: 0.8023 - val_loss: 0.6404 - val_accuracy: 0.7915\n",
            "Epoch 59/100\n",
            "49/49 [==============================] - 3s 64ms/step - loss: 0.5609 - accuracy: 0.8070 - val_loss: 0.6537 - val_accuracy: 0.7883\n",
            "Epoch 60/100\n",
            "49/49 [==============================] - 3s 55ms/step - loss: 0.5557 - accuracy: 0.8068 - val_loss: 0.6286 - val_accuracy: 0.7963\n",
            "Epoch 61/100\n",
            "49/49 [==============================] - 3s 56ms/step - loss: 0.5552 - accuracy: 0.8055 - val_loss: 0.6469 - val_accuracy: 0.7907\n",
            "Epoch 62/100\n",
            "49/49 [==============================] - 3s 55ms/step - loss: 0.5506 - accuracy: 0.8096 - val_loss: 0.6263 - val_accuracy: 0.7972\n",
            "Epoch 63/100\n",
            "49/49 [==============================] - 3s 55ms/step - loss: 0.5484 - accuracy: 0.8091 - val_loss: 0.6256 - val_accuracy: 0.7959\n",
            "Epoch 64/100\n",
            "49/49 [==============================] - 3s 54ms/step - loss: 0.5461 - accuracy: 0.8088 - val_loss: 0.6408 - val_accuracy: 0.7945\n",
            "Epoch 65/100\n",
            "49/49 [==============================] - 3s 55ms/step - loss: 0.5395 - accuracy: 0.8112 - val_loss: 0.6380 - val_accuracy: 0.7948\n",
            "Epoch 66/100\n",
            "49/49 [==============================] - 3s 56ms/step - loss: 0.5351 - accuracy: 0.8132 - val_loss: 0.6284 - val_accuracy: 0.7967\n",
            "\n",
            "Epoch 00066: ReduceLROnPlateau reducing learning rate to 0.0001250000059371814.\n",
            "Epoch 67/100\n",
            "49/49 [==============================] - 3s 67ms/step - loss: 0.5279 - accuracy: 0.8161 - val_loss: 0.6275 - val_accuracy: 0.7976\n",
            "Epoch 68/100\n",
            "49/49 [==============================] - 3s 56ms/step - loss: 0.5178 - accuracy: 0.8183 - val_loss: 0.6359 - val_accuracy: 0.7946\n",
            "Epoch 69/100\n",
            "49/49 [==============================] - 3s 56ms/step - loss: 0.5223 - accuracy: 0.8159 - val_loss: 0.6277 - val_accuracy: 0.7993\n",
            "\n",
            "Epoch 00069: ReduceLROnPlateau reducing learning rate to 6.25000029685907e-05.\n",
            "Epoch 70/100\n",
            "49/49 [==============================] - 3s 56ms/step - loss: 0.5129 - accuracy: 0.8180 - val_loss: 0.6181 - val_accuracy: 0.8021\n",
            "Epoch 71/100\n",
            "49/49 [==============================] - 3s 55ms/step - loss: 0.5055 - accuracy: 0.8242 - val_loss: 0.6253 - val_accuracy: 0.8001\n",
            "Epoch 72/100\n",
            "49/49 [==============================] - 3s 55ms/step - loss: 0.5064 - accuracy: 0.8190 - val_loss: 0.6172 - val_accuracy: 0.8030\n",
            "Epoch 73/100\n",
            "49/49 [==============================] - 3s 54ms/step - loss: 0.5045 - accuracy: 0.8218 - val_loss: 0.6183 - val_accuracy: 0.8027\n",
            "Epoch 74/100\n",
            "49/49 [==============================] - 3s 64ms/step - loss: 0.5079 - accuracy: 0.8226 - val_loss: 0.6187 - val_accuracy: 0.8023\n",
            "Epoch 75/100\n",
            "49/49 [==============================] - 3s 55ms/step - loss: 0.5070 - accuracy: 0.8225 - val_loss: 0.6179 - val_accuracy: 0.8019\n",
            "\n",
            "Epoch 00075: ReduceLROnPlateau reducing learning rate to 3.125000148429535e-05.\n",
            "Epoch 76/100\n",
            "49/49 [==============================] - 3s 55ms/step - loss: 0.5015 - accuracy: 0.8250 - val_loss: 0.6224 - val_accuracy: 0.8011\n",
            "Epoch 77/100\n",
            "49/49 [==============================] - 3s 55ms/step - loss: 0.4993 - accuracy: 0.8265 - val_loss: 0.6241 - val_accuracy: 0.8033\n",
            "Epoch 78/100\n",
            "49/49 [==============================] - 3s 56ms/step - loss: 0.4913 - accuracy: 0.8275 - val_loss: 0.6223 - val_accuracy: 0.8022\n",
            "\n",
            "Epoch 00078: ReduceLROnPlateau reducing learning rate to 1.5625000742147677e-05.\n",
            "Epoch 79/100\n",
            "49/49 [==============================] - 3s 55ms/step - loss: 0.4960 - accuracy: 0.8275 - val_loss: 0.6197 - val_accuracy: 0.8036\n",
            "Epoch 80/100\n",
            "49/49 [==============================] - 3s 54ms/step - loss: 0.4939 - accuracy: 0.8273 - val_loss: 0.6199 - val_accuracy: 0.8038\n",
            "Epoch 81/100\n",
            "49/49 [==============================] - 3s 65ms/step - loss: 0.5007 - accuracy: 0.8243 - val_loss: 0.6206 - val_accuracy: 0.8037\n",
            "\n",
            "Epoch 00081: ReduceLROnPlateau reducing learning rate to 7.812500371073838e-06.\n",
            "Epoch 82/100\n",
            "49/49 [==============================] - 3s 55ms/step - loss: 0.4900 - accuracy: 0.8307 - val_loss: 0.6204 - val_accuracy: 0.8050\n",
            "Total training time: 5.425088755289713 minutes\n"
          ],
          "name": "stdout"
        }
      ]
    },
    {
      "cell_type": "code",
      "metadata": {
        "colab": {
          "base_uri": "https://localhost:8080/",
          "height": 269
        },
        "id": "FTPzLMkNuhnF",
        "outputId": "2f7d0789-6c9b-42bd-c37c-cd904b0f2e7c"
      },
      "source": [
        "utils.plot_history(history)"
      ],
      "execution_count": 12,
      "outputs": [
        {
          "output_type": "display_data",
          "data": {
            "image/png": "[encoded data removed]",
            "text/plain": [
              "<Figure size 432x288 with 1 Axes>"
            ]
          },
          "metadata": {
            "tags": [],
            "needs_background": "light"
          }
        }
      ]
    },
    {
      "cell_type": "markdown",
      "metadata": {
        "id": "52RjGwqr2gfs"
      },
      "source": [
        "## Train a Regular ResNet20 Model"
      ]
    },
    {
      "cell_type": "code",
      "metadata": {
        "colab": {
          "base_uri": "https://localhost:8080/"
        },
        "id": "eWH9wX5turnF",
        "outputId": "dc56814e-1f1c-468c-e2d0-f3276105f2b4"
      },
      "source": [
        "with strategy.scope():\n",
        "    model = utils.get_training_model()\n",
        "\n",
        "model.compile(\n",
        "    optimizer=\"adam\", loss=\"sparse_categorical_crossentropy\", metrics=[\"accuracy\"]\n",
        ")\n",
        "\n",
        "start = time.time()\n",
        "history = model.fit(train_ds,\n",
        "                   validation_data=test_ds,\n",
        "                   callbacks=train_callbacks,\n",
        "                   epochs=200) # 200 eppochs since SAM takes two backprop steps for an update\n",
        "print(f\"Total training time: {(time.time() - start)/60.} minutes\")"
      ],
      "execution_count": 13,
      "outputs": [
        {
          "output_type": "stream",
          "text": [
            "Epoch 1/200\n",
            "49/49 [==============================] - 28s 241ms/step - loss: 2.0576 - accuracy: 0.2403 - val_loss: 4.2448 - val_accuracy: 0.1111\n",
            "Epoch 2/200\n",
            "49/49 [==============================] - 3s 58ms/step - loss: 1.6117 - accuracy: 0.4053 - val_loss: 2.7815 - val_accuracy: 0.1874\n",
            "Epoch 3/200\n",
            "49/49 [==============================] - 3s 59ms/step - loss: 1.4582 - accuracy: 0.4694 - val_loss: 3.1113 - val_accuracy: 0.1952\n",
            "Epoch 4/200\n",
            "49/49 [==============================] - 3s 58ms/step - loss: 1.3393 - accuracy: 0.5170 - val_loss: 2.1461 - val_accuracy: 0.3209\n",
            "Epoch 5/200\n",
            "49/49 [==============================] - 3s 67ms/step - loss: 1.2423 - accuracy: 0.5497 - val_loss: 1.5132 - val_accuracy: 0.4730\n",
            "Epoch 6/200\n",
            "49/49 [==============================] - 3s 58ms/step - loss: 1.1670 - accuracy: 0.5842 - val_loss: 1.3519 - val_accuracy: 0.5151\n",
            "Epoch 7/200\n",
            "49/49 [==============================] - 3s 58ms/step - loss: 1.0946 - accuracy: 0.6124 - val_loss: 1.1352 - val_accuracy: 0.5958\n",
            "Epoch 8/200\n",
            "49/49 [==============================] - 3s 59ms/step - loss: 1.0293 - accuracy: 0.6346 - val_loss: 1.1139 - val_accuracy: 0.6050\n",
            "Epoch 9/200\n",
            "49/49 [==============================] - 3s 58ms/step - loss: 0.9774 - accuracy: 0.6533 - val_loss: 1.1012 - val_accuracy: 0.6155\n",
            "Epoch 10/200\n",
            "49/49 [==============================] - 3s 59ms/step - loss: 0.9359 - accuracy: 0.6699 - val_loss: 1.0424 - val_accuracy: 0.6367\n",
            "Epoch 11/200\n",
            "49/49 [==============================] - 3s 61ms/step - loss: 0.8897 - accuracy: 0.6875 - val_loss: 1.0817 - val_accuracy: 0.6342\n",
            "Epoch 12/200\n",
            "49/49 [==============================] - 3s 61ms/step - loss: 0.8576 - accuracy: 0.6998 - val_loss: 1.1549 - val_accuracy: 0.6062\n",
            "Epoch 13/200\n",
            "49/49 [==============================] - 3s 59ms/step - loss: 0.8172 - accuracy: 0.7115 - val_loss: 0.8850 - val_accuracy: 0.6955\n",
            "Epoch 14/200\n",
            "49/49 [==============================] - 3s 58ms/step - loss: 0.7944 - accuracy: 0.7225 - val_loss: 0.9129 - val_accuracy: 0.6961\n",
            "Epoch 15/200\n",
            "49/49 [==============================] - 3s 71ms/step - loss: 0.7622 - accuracy: 0.7335 - val_loss: 0.8537 - val_accuracy: 0.7102\n",
            "Epoch 16/200\n",
            "49/49 [==============================] - 3s 59ms/step - loss: 0.7345 - accuracy: 0.7424 - val_loss: 0.8992 - val_accuracy: 0.7013\n",
            "Epoch 17/200\n",
            "49/49 [==============================] - 3s 58ms/step - loss: 0.7152 - accuracy: 0.7499 - val_loss: 0.7569 - val_accuracy: 0.7446\n",
            "Epoch 18/200\n",
            "49/49 [==============================] - 3s 59ms/step - loss: 0.6776 - accuracy: 0.7645 - val_loss: 0.9083 - val_accuracy: 0.7153\n",
            "Epoch 19/200\n",
            "49/49 [==============================] - 3s 59ms/step - loss: 0.6601 - accuracy: 0.7699 - val_loss: 0.7608 - val_accuracy: 0.7507\n",
            "Epoch 20/200\n",
            "49/49 [==============================] - 3s 59ms/step - loss: 0.6314 - accuracy: 0.7820 - val_loss: 0.8219 - val_accuracy: 0.7360\n",
            "\n",
            "Epoch 00020: ReduceLROnPlateau reducing learning rate to 0.0005000000237487257.\n",
            "Epoch 21/200\n",
            "49/49 [==============================] - 3s 59ms/step - loss: 0.6022 - accuracy: 0.7919 - val_loss: 0.7268 - val_accuracy: 0.7583\n",
            "Epoch 22/200\n",
            "49/49 [==============================] - 3s 59ms/step - loss: 0.5778 - accuracy: 0.7999 - val_loss: 0.6605 - val_accuracy: 0.7773\n",
            "Epoch 23/200\n",
            "49/49 [==============================] - 3s 58ms/step - loss: 0.5616 - accuracy: 0.8046 - val_loss: 0.6235 - val_accuracy: 0.7882\n",
            "Epoch 24/200\n",
            "49/49 [==============================] - 3s 59ms/step - loss: 0.5555 - accuracy: 0.8073 - val_loss: 0.6773 - val_accuracy: 0.7720\n",
            "Epoch 25/200\n",
            "49/49 [==============================] - 3s 71ms/step - loss: 0.5428 - accuracy: 0.8104 - val_loss: 0.6046 - val_accuracy: 0.7925\n",
            "Epoch 26/200\n",
            "49/49 [==============================] - 3s 58ms/step - loss: 0.5365 - accuracy: 0.8125 - val_loss: 0.6525 - val_accuracy: 0.7840\n",
            "Epoch 27/200\n",
            "49/49 [==============================] - 3s 58ms/step - loss: 0.5247 - accuracy: 0.8160 - val_loss: 0.6374 - val_accuracy: 0.7867\n",
            "Epoch 28/200\n",
            "49/49 [==============================] - 3s 59ms/step - loss: 0.5152 - accuracy: 0.8179 - val_loss: 0.6059 - val_accuracy: 0.7995\n",
            "\n",
            "Epoch 00028: ReduceLROnPlateau reducing learning rate to 0.0002500000118743628.\n",
            "Epoch 29/200\n",
            "49/49 [==============================] - 3s 58ms/step - loss: 0.4939 - accuracy: 0.8294 - val_loss: 0.5594 - val_accuracy: 0.8174\n",
            "Epoch 30/200\n",
            "49/49 [==============================] - 3s 58ms/step - loss: 0.4877 - accuracy: 0.8307 - val_loss: 0.5471 - val_accuracy: 0.8172\n",
            "Epoch 31/200\n",
            "49/49 [==============================] - 3s 57ms/step - loss: 0.4799 - accuracy: 0.8335 - val_loss: 0.5518 - val_accuracy: 0.8159\n",
            "Epoch 32/200\n",
            "49/49 [==============================] - 3s 59ms/step - loss: 0.4754 - accuracy: 0.8347 - val_loss: 0.5482 - val_accuracy: 0.8136\n",
            "Epoch 33/200\n",
            "49/49 [==============================] - 3s 58ms/step - loss: 0.4711 - accuracy: 0.8383 - val_loss: 0.5584 - val_accuracy: 0.8161\n",
            "\n",
            "Epoch 00033: ReduceLROnPlateau reducing learning rate to 0.0001250000059371814.\n",
            "Epoch 34/200\n",
            "49/49 [==============================] - 3s 71ms/step - loss: 0.4598 - accuracy: 0.8391 - val_loss: 0.5431 - val_accuracy: 0.8177\n",
            "Epoch 35/200\n",
            "49/49 [==============================] - 3s 58ms/step - loss: 0.4522 - accuracy: 0.8446 - val_loss: 0.5496 - val_accuracy: 0.8183\n",
            "Epoch 36/200\n",
            "49/49 [==============================] - 3s 60ms/step - loss: 0.4517 - accuracy: 0.8438 - val_loss: 0.5460 - val_accuracy: 0.8183\n",
            "Epoch 37/200\n",
            "49/49 [==============================] - 3s 59ms/step - loss: 0.4521 - accuracy: 0.8423 - val_loss: 0.5336 - val_accuracy: 0.8221\n",
            "Epoch 38/200\n",
            "49/49 [==============================] - 3s 58ms/step - loss: 0.4470 - accuracy: 0.8463 - val_loss: 0.5311 - val_accuracy: 0.8218\n",
            "Epoch 39/200\n",
            "49/49 [==============================] - 3s 62ms/step - loss: 0.4461 - accuracy: 0.8462 - val_loss: 0.5321 - val_accuracy: 0.8206\n",
            "Epoch 40/200\n",
            "49/49 [==============================] - 3s 61ms/step - loss: 0.4366 - accuracy: 0.8493 - val_loss: 0.5309 - val_accuracy: 0.8236\n",
            "Epoch 41/200\n",
            "49/49 [==============================] - 3s 58ms/step - loss: 0.4371 - accuracy: 0.8506 - val_loss: 0.5367 - val_accuracy: 0.8244\n",
            "Epoch 42/200\n",
            "49/49 [==============================] - 3s 59ms/step - loss: 0.4376 - accuracy: 0.8487 - val_loss: 0.5235 - val_accuracy: 0.8255\n",
            "Epoch 43/200\n",
            "49/49 [==============================] - 4s 72ms/step - loss: 0.4330 - accuracy: 0.8514 - val_loss: 0.5365 - val_accuracy: 0.8230\n",
            "Epoch 44/200\n",
            "49/49 [==============================] - 3s 58ms/step - loss: 0.4303 - accuracy: 0.8493 - val_loss: 0.5306 - val_accuracy: 0.8229\n",
            "Epoch 45/200\n",
            "49/49 [==============================] - 3s 59ms/step - loss: 0.4268 - accuracy: 0.8530 - val_loss: 0.5228 - val_accuracy: 0.8256\n",
            "Epoch 46/200\n",
            "49/49 [==============================] - 3s 59ms/step - loss: 0.4247 - accuracy: 0.8525 - val_loss: 0.5434 - val_accuracy: 0.8209\n",
            "Epoch 47/200\n",
            "49/49 [==============================] - 3s 58ms/step - loss: 0.4250 - accuracy: 0.8519 - val_loss: 0.5266 - val_accuracy: 0.8252\n",
            "Epoch 48/200\n",
            "49/49 [==============================] - 3s 59ms/step - loss: 0.4201 - accuracy: 0.8524 - val_loss: 0.5434 - val_accuracy: 0.8183\n",
            "\n",
            "Epoch 00048: ReduceLROnPlateau reducing learning rate to 6.25000029685907e-05.\n",
            "Epoch 49/200\n",
            "49/49 [==============================] - 3s 59ms/step - loss: 0.4174 - accuracy: 0.8562 - val_loss: 0.5322 - val_accuracy: 0.8226\n",
            "Epoch 50/200\n",
            "49/49 [==============================] - 3s 60ms/step - loss: 0.4173 - accuracy: 0.8523 - val_loss: 0.5230 - val_accuracy: 0.8278\n",
            "Epoch 51/200\n",
            "49/49 [==============================] - 3s 59ms/step - loss: 0.4141 - accuracy: 0.8552 - val_loss: 0.5229 - val_accuracy: 0.8261\n",
            "\n",
            "Epoch 00051: ReduceLROnPlateau reducing learning rate to 3.125000148429535e-05.\n",
            "Epoch 52/200\n",
            "49/49 [==============================] - 3s 59ms/step - loss: 0.4127 - accuracy: 0.8585 - val_loss: 0.5180 - val_accuracy: 0.8282\n",
            "Epoch 53/200\n",
            "49/49 [==============================] - 3s 59ms/step - loss: 0.4043 - accuracy: 0.8587 - val_loss: 0.5167 - val_accuracy: 0.8284\n",
            "Epoch 54/200\n",
            "49/49 [==============================] - 3s 59ms/step - loss: 0.4066 - accuracy: 0.8600 - val_loss: 0.5219 - val_accuracy: 0.8249\n",
            "Epoch 55/200\n",
            "49/49 [==============================] - 3s 60ms/step - loss: 0.4077 - accuracy: 0.8608 - val_loss: 0.5214 - val_accuracy: 0.8257\n",
            "Epoch 56/200\n",
            "49/49 [==============================] - 3s 59ms/step - loss: 0.4059 - accuracy: 0.8583 - val_loss: 0.5225 - val_accuracy: 0.8277\n",
            "\n",
            "Epoch 00056: ReduceLROnPlateau reducing learning rate to 1.5625000742147677e-05.\n",
            "Epoch 57/200\n",
            "49/49 [==============================] - 3s 58ms/step - loss: 0.4024 - accuracy: 0.8614 - val_loss: 0.5181 - val_accuracy: 0.8267\n",
            "Epoch 58/200\n",
            "49/49 [==============================] - 3s 60ms/step - loss: 0.4003 - accuracy: 0.8628 - val_loss: 0.5175 - val_accuracy: 0.8276\n",
            "Epoch 59/200\n",
            "49/49 [==============================] - 3s 59ms/step - loss: 0.4026 - accuracy: 0.8599 - val_loss: 0.5138 - val_accuracy: 0.8294\n",
            "Epoch 60/200\n",
            "49/49 [==============================] - 3s 59ms/step - loss: 0.4042 - accuracy: 0.8595 - val_loss: 0.5156 - val_accuracy: 0.8302\n",
            "Epoch 61/200\n",
            "49/49 [==============================] - 3s 60ms/step - loss: 0.4014 - accuracy: 0.8608 - val_loss: 0.5157 - val_accuracy: 0.8287\n",
            "Epoch 62/200\n",
            "49/49 [==============================] - 3s 59ms/step - loss: 0.4032 - accuracy: 0.8614 - val_loss: 0.5175 - val_accuracy: 0.8288\n",
            "\n",
            "Epoch 00062: ReduceLROnPlateau reducing learning rate to 7.812500371073838e-06.\n",
            "Epoch 63/200\n",
            "49/49 [==============================] - 3s 59ms/step - loss: 0.4013 - accuracy: 0.8607 - val_loss: 0.5160 - val_accuracy: 0.8287\n",
            "Epoch 64/200\n",
            "49/49 [==============================] - 3s 58ms/step - loss: 0.3991 - accuracy: 0.8617 - val_loss: 0.5163 - val_accuracy: 0.8290\n",
            "Epoch 65/200\n",
            "49/49 [==============================] - 3s 60ms/step - loss: 0.4034 - accuracy: 0.8616 - val_loss: 0.5147 - val_accuracy: 0.8294\n",
            "\n",
            "Epoch 00065: ReduceLROnPlateau reducing learning rate to 3.906250185536919e-06.\n",
            "Epoch 66/200\n",
            "49/49 [==============================] - 3s 59ms/step - loss: 0.3997 - accuracy: 0.8629 - val_loss: 0.5142 - val_accuracy: 0.8311\n",
            "Epoch 67/200\n",
            "49/49 [==============================] - 3s 58ms/step - loss: 0.4091 - accuracy: 0.8588 - val_loss: 0.5137 - val_accuracy: 0.8312\n",
            "Epoch 68/200\n",
            "49/49 [==============================] - 3s 59ms/step - loss: 0.3996 - accuracy: 0.8613 - val_loss: 0.5141 - val_accuracy: 0.8310\n",
            "Epoch 69/200\n",
            "49/49 [==============================] - 3s 59ms/step - loss: 0.4013 - accuracy: 0.8619 - val_loss: 0.5149 - val_accuracy: 0.8316\n",
            "Epoch 70/200\n",
            "49/49 [==============================] - 3s 59ms/step - loss: 0.3941 - accuracy: 0.8627 - val_loss: 0.5143 - val_accuracy: 0.8298\n",
            "\n",
            "Epoch 00070: ReduceLROnPlateau reducing learning rate to 1.9531250927684596e-06.\n",
            "Epoch 71/200\n",
            "49/49 [==============================] - 3s 72ms/step - loss: 0.3997 - accuracy: 0.8614 - val_loss: 0.5138 - val_accuracy: 0.8305\n",
            "Epoch 72/200\n",
            "49/49 [==============================] - 3s 59ms/step - loss: 0.4045 - accuracy: 0.8586 - val_loss: 0.5137 - val_accuracy: 0.8298\n",
            "Epoch 73/200\n",
            "49/49 [==============================] - 3s 60ms/step - loss: 0.4011 - accuracy: 0.8611 - val_loss: 0.5130 - val_accuracy: 0.8305\n",
            "Epoch 74/200\n",
            "49/49 [==============================] - 3s 60ms/step - loss: 0.3977 - accuracy: 0.8629 - val_loss: 0.5132 - val_accuracy: 0.8307\n",
            "Epoch 75/200\n",
            "49/49 [==============================] - 3s 60ms/step - loss: 0.4026 - accuracy: 0.8616 - val_loss: 0.5136 - val_accuracy: 0.8306\n",
            "Epoch 76/200\n",
            "49/49 [==============================] - 3s 61ms/step - loss: 0.3985 - accuracy: 0.8636 - val_loss: 0.5135 - val_accuracy: 0.8306\n",
            "\n",
            "Epoch 00076: ReduceLROnPlateau reducing learning rate to 9.765625463842298e-07.\n",
            "Epoch 77/200\n",
            "49/49 [==============================] - 3s 59ms/step - loss: 0.4002 - accuracy: 0.8604 - val_loss: 0.5133 - val_accuracy: 0.8298\n",
            "Epoch 78/200\n",
            "49/49 [==============================] - 3s 60ms/step - loss: 0.4020 - accuracy: 0.8611 - val_loss: 0.5133 - val_accuracy: 0.8313\n",
            "Epoch 79/200\n",
            "49/49 [==============================] - 3s 59ms/step - loss: 0.4023 - accuracy: 0.8597 - val_loss: 0.5134 - val_accuracy: 0.8315\n",
            "\n",
            "Epoch 00079: ReduceLROnPlateau reducing learning rate to 4.882812731921149e-07.\n",
            "Epoch 80/200\n",
            "49/49 [==============================] - 3s 58ms/step - loss: 0.3996 - accuracy: 0.8636 - val_loss: 0.5131 - val_accuracy: 0.8320\n",
            "Epoch 81/200\n",
            "49/49 [==============================] - 4s 72ms/step - loss: 0.4004 - accuracy: 0.8618 - val_loss: 0.5133 - val_accuracy: 0.8319\n",
            "Epoch 82/200\n",
            "49/49 [==============================] - 3s 58ms/step - loss: 0.4000 - accuracy: 0.8606 - val_loss: 0.5134 - val_accuracy: 0.8316\n",
            "\n",
            "Epoch 00082: ReduceLROnPlateau reducing learning rate to 2.4414063659605745e-07.\n",
            "Epoch 83/200\n",
            "49/49 [==============================] - 3s 59ms/step - loss: 0.4022 - accuracy: 0.8613 - val_loss: 0.5136 - val_accuracy: 0.8310\n",
            "Total training time: 5.581731029351553 minutes\n"
          ],
          "name": "stdout"
        }
      ]
    },
    {
      "cell_type": "code",
      "metadata": {
        "colab": {
          "base_uri": "https://localhost:8080/",
          "height": 265
        },
        "id": "RPOP52xtxWKi",
        "outputId": "2bc29b89-d664-4dfc-f13c-0369fa234fab"
      },
      "source": [
        "utils.plot_history(history)"
      ],
      "execution_count": 14,
      "outputs": [
        {
          "output_type": "display_data",
          "data": {
            "image/png": "[encoded data removed]",
            "text/plain": [
              "<Figure size 432x288 with 1 Axes>"
            ]
          },
          "metadata": {
            "tags": [],
            "needs_background": "light"
          }
        }
      ]
    }
  ]
}